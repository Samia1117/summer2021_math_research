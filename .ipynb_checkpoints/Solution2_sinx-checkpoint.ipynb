{
 "cells": [
  {
   "cell_type": "code",
   "execution_count": 8,
   "metadata": {},
   "outputs": [],
   "source": [
    "import math\n",
    "import numpy as np\n",
    "import time\n",
    "import random\n",
    "from sympy import *"
   ]
  },
  {
   "cell_type": "code",
   "execution_count": 9,
   "metadata": {},
   "outputs": [
    {
     "name": "stdout",
     "output_type": "stream",
     "text": [
      "cos(3)**2\n"
     ]
    }
   ],
   "source": [
    "print(pow(cos(3), 2))"
   ]
  },
  {
   "cell_type": "code",
   "execution_count": 17,
   "metadata": {},
   "outputs": [],
   "source": [
    "def rhs_int(a_1, x_val):\n",
    "    return a_1* (pow(cos(x_val),3))"
   ]
  },
  {
   "cell_type": "code",
   "execution_count": 22,
   "metadata": {},
   "outputs": [],
   "source": [
    "def lhs_int(b_params, x_val):\n",
    "    term1 = 1+ b_params[0]*2*(pow(cos(x_val),2)) + b_params[1]*(pow(cos(x_val),4))\n",
    "    term2 = b_params[2]* (pow(sin(x_val),4))\n",
    "    term3 = b_params[3]*(1/6)*(pow(sin(2*x_val),2)) + b_params[4]*(2/3)*(pow(sin(x_val),2))\n",
    "    \n",
    "    return term1 + term2 + term3"
   ]
  },
  {
   "cell_type": "code",
   "execution_count": 12,
   "metadata": {},
   "outputs": [],
   "source": [
    "def create_random_params():  # [[a_1], [b_1, b_2, b_3, ..b_5]]\n",
    "    ret = np.zeros(6)\n",
    "    ret[0] = random.uniform(-1,1)\n",
    "    for j in range(1, 6):\n",
    "        ret[j] = random.uniform(-1,1)\n",
    "    return ret"
   ]
  },
  {
   "cell_type": "code",
   "execution_count": 19,
   "metadata": {},
   "outputs": [],
   "source": [
    "def integrate_fast(params):\n",
    "    # assert params.shape == (2,7), 'Check number of parameters'\n",
    "    \n",
    "    # params_a, params_b = params[0], params[1]\n",
    "    a_1 = params[0]\n",
    "    b_params = params[1:6]\n",
    "    \n",
    "    xvals = np.linspace(-np.pi,np.pi,1000)\n",
    "    #yvals = np.linspace(-np.pi,np.pi,1000)\n",
    "    \n",
    "    lhs = 0\n",
    "    rhs = 0\n",
    "    \n",
    "    for x_val in xvals:\n",
    "#         for y in yvals:\n",
    "#             dax = f_x(params_a,x,y)\n",
    "#             day = f_y(params_a,x,y)\n",
    "#             dbx = f_x(params_b,x,y)\n",
    "#             dby = f_y(params_b,x,y)\n",
    "\n",
    "#             ng2 = dax**2 + day**2 + dbx**2 + dby**2\n",
    "#             ng4 = ng2**2\n",
    "#             dg = dax*dby - day*dbx\n",
    "            \n",
    "        lhs += lhs_int(b_params, x_val)\n",
    "        rhs += rhs_int(a_1, x_val)\n",
    "    if rhs == 0:\n",
    "        return 0\n",
    "    return lhs/rhs"
   ]
  },
  {
   "cell_type": "code",
   "execution_count": 23,
   "metadata": {},
   "outputs": [
    {
     "name": "stdout",
     "output_type": "stream",
     "text": [
      "time taken:  3.9596367999999984\n",
      "C:  -1401.71766932572\n"
     ]
    }
   ],
   "source": [
    "rparams = create_random_params()\n",
    "\n",
    "start = time.perf_counter()\n",
    "c = integrate_fast(rparams)\n",
    "end = time.perf_counter()\n",
    "print(\"time taken: \", end - start)\n",
    "print(\"C: \", c)"
   ]
  },
  {
   "cell_type": "code",
   "execution_count": 25,
   "metadata": {},
   "outputs": [
    {
     "name": "stdout",
     "output_type": "stream",
     "text": [
      "time taken:  4.109723000000031\n",
      "C:  4569.40949161468\n"
     ]
    }
   ],
   "source": [
    "rparams = create_random_params()\n",
    "\n",
    "start = time.perf_counter()\n",
    "c = integrate_fast(rparams)\n",
    "end = time.perf_counter()\n",
    "print(\"time taken: \", end - start)\n",
    "print(\"C: \", c)"
   ]
  },
  {
   "cell_type": "code",
   "execution_count": 26,
   "metadata": {},
   "outputs": [
    {
     "name": "stdout",
     "output_type": "stream",
     "text": [
      "time taken:  3.988768899999968\n",
      "C:  -10779.2429304776\n"
     ]
    }
   ],
   "source": [
    "rparams = create_random_params()\n",
    "\n",
    "start = time.perf_counter()\n",
    "c = integrate_fast(rparams)\n",
    "end = time.perf_counter()\n",
    "print(\"time taken: \", end - start)\n",
    "print(\"C: \", c)"
   ]
  },
  {
   "cell_type": "code",
   "execution_count": 27,
   "metadata": {},
   "outputs": [
    {
     "name": "stdout",
     "output_type": "stream",
     "text": [
      "time taken:  4.517553299999918\n",
      "C:  -5955.07039982959\n"
     ]
    }
   ],
   "source": [
    "rparams = create_random_params()\n",
    "\n",
    "start = time.perf_counter()\n",
    "c = integrate_fast(rparams)\n",
    "end = time.perf_counter()\n",
    "print(\"time taken: \", end - start)\n",
    "print(\"C: \", c)"
   ]
  },
  {
   "cell_type": "code",
   "execution_count": null,
   "metadata": {},
   "outputs": [],
   "source": []
  }
 ],
 "metadata": {
  "kernelspec": {
   "display_name": "Python 3",
   "language": "python",
   "name": "python3"
  },
  "language_info": {
   "codemirror_mode": {
    "name": "ipython",
    "version": 3
   },
   "file_extension": ".py",
   "mimetype": "text/x-python",
   "name": "python",
   "nbconvert_exporter": "python",
   "pygments_lexer": "ipython3",
   "version": "3.7.6"
  }
 },
 "nbformat": 4,
 "nbformat_minor": 4
}
